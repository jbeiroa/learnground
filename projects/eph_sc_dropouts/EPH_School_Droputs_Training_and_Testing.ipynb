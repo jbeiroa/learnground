{
 "cells": [
  {
   "cell_type": "code",
   "execution_count": 1,
   "id": "a7b7a409",
   "metadata": {},
   "outputs": [],
   "source": [
    "import pandas as pd\n",
    "import numpy as np\n",
    "from sklearn.ensemble import RandomForestClassifier"
   ]
  },
  {
   "cell_type": "code",
   "execution_count": 7,
   "id": "986a39f6",
   "metadata": {},
   "outputs": [],
   "source": [
    "from sklearn.model_selection import train_test_split\n",
    "from sklearn.metrics import classification_report"
   ]
  },
  {
   "cell_type": "code",
   "execution_count": 15,
   "id": "392c6aaf",
   "metadata": {},
   "outputs": [
    {
     "data": {
      "text/html": [
       "<div>\n",
       "<style scoped>\n",
       "    .dataframe tbody tr th:only-of-type {\n",
       "        vertical-align: middle;\n",
       "    }\n",
       "\n",
       "    .dataframe tbody tr th {\n",
       "        vertical-align: top;\n",
       "    }\n",
       "\n",
       "    .dataframe thead th {\n",
       "        text-align: right;\n",
       "    }\n",
       "</style>\n",
       "<table border=\"1\" class=\"dataframe\">\n",
       "  <thead>\n",
       "    <tr style=\"text-align: right;\">\n",
       "      <th></th>\n",
       "      <th>CODUSU</th>\n",
       "      <th>NRO_HOGAR</th>\n",
       "      <th>H15</th>\n",
       "      <th>ANO4</th>\n",
       "      <th>TRIMESTRE</th>\n",
       "      <th>REGION</th>\n",
       "      <th>MAS_500</th>\n",
       "      <th>AGLOMERADO</th>\n",
       "      <th>PONDERA</th>\n",
       "      <th>CH03</th>\n",
       "      <th>...</th>\n",
       "      <th>II1</th>\n",
       "      <th>II2</th>\n",
       "      <th>II7</th>\n",
       "      <th>IX_TOT</th>\n",
       "      <th>IX_MEN10</th>\n",
       "      <th>IX_MAYEQ10</th>\n",
       "      <th>ITF</th>\n",
       "      <th>DECIFR</th>\n",
       "      <th>V11</th>\n",
       "      <th>dropped</th>\n",
       "    </tr>\n",
       "  </thead>\n",
       "  <tbody>\n",
       "    <tr>\n",
       "      <th>95</th>\n",
       "      <td>TQRMNOTRPHJORSCDEIJAH00663228</td>\n",
       "      <td>1</td>\n",
       "      <td>1</td>\n",
       "      <td>2021</td>\n",
       "      <td>2</td>\n",
       "      <td>1</td>\n",
       "      <td>S</td>\n",
       "      <td>33</td>\n",
       "      <td>8647</td>\n",
       "      <td>1</td>\n",
       "      <td>...</td>\n",
       "      <td>4</td>\n",
       "      <td>1</td>\n",
       "      <td>1</td>\n",
       "      <td>1</td>\n",
       "      <td>0</td>\n",
       "      <td>1</td>\n",
       "      <td>32000</td>\n",
       "      <td>2</td>\n",
       "      <td>2</td>\n",
       "      <td>0</td>\n",
       "    </tr>\n",
       "    <tr>\n",
       "      <th>247</th>\n",
       "      <td>TQRMNOSSVHLMLLCDEGKDB00708304</td>\n",
       "      <td>1</td>\n",
       "      <td>1</td>\n",
       "      <td>2021</td>\n",
       "      <td>2</td>\n",
       "      <td>43</td>\n",
       "      <td>N</td>\n",
       "      <td>14</td>\n",
       "      <td>111</td>\n",
       "      <td>2</td>\n",
       "      <td>...</td>\n",
       "      <td>2</td>\n",
       "      <td>1</td>\n",
       "      <td>3</td>\n",
       "      <td>4</td>\n",
       "      <td>2</td>\n",
       "      <td>2</td>\n",
       "      <td>29000</td>\n",
       "      <td>2</td>\n",
       "      <td>2</td>\n",
       "      <td>0</td>\n",
       "    </tr>\n",
       "    <tr>\n",
       "      <th>248</th>\n",
       "      <td>TQRMNOSSVHLMLLCDEGKDB00708304</td>\n",
       "      <td>1</td>\n",
       "      <td>1</td>\n",
       "      <td>2021</td>\n",
       "      <td>2</td>\n",
       "      <td>43</td>\n",
       "      <td>N</td>\n",
       "      <td>14</td>\n",
       "      <td>111</td>\n",
       "      <td>2</td>\n",
       "      <td>...</td>\n",
       "      <td>2</td>\n",
       "      <td>1</td>\n",
       "      <td>3</td>\n",
       "      <td>4</td>\n",
       "      <td>2</td>\n",
       "      <td>2</td>\n",
       "      <td>29000</td>\n",
       "      <td>2</td>\n",
       "      <td>2</td>\n",
       "      <td>0</td>\n",
       "    </tr>\n",
       "    <tr>\n",
       "      <th>249</th>\n",
       "      <td>TQRMNOSSVHLMLLCDEGKDB00708304</td>\n",
       "      <td>1</td>\n",
       "      <td>1</td>\n",
       "      <td>2021</td>\n",
       "      <td>2</td>\n",
       "      <td>43</td>\n",
       "      <td>N</td>\n",
       "      <td>14</td>\n",
       "      <td>111</td>\n",
       "      <td>2</td>\n",
       "      <td>...</td>\n",
       "      <td>2</td>\n",
       "      <td>1</td>\n",
       "      <td>3</td>\n",
       "      <td>4</td>\n",
       "      <td>2</td>\n",
       "      <td>2</td>\n",
       "      <td>29000</td>\n",
       "      <td>2</td>\n",
       "      <td>2</td>\n",
       "      <td>0</td>\n",
       "    </tr>\n",
       "    <tr>\n",
       "      <th>250</th>\n",
       "      <td>TQRMNOSSVHLMLLCDEGKDB00708304</td>\n",
       "      <td>1</td>\n",
       "      <td>1</td>\n",
       "      <td>2021</td>\n",
       "      <td>2</td>\n",
       "      <td>43</td>\n",
       "      <td>N</td>\n",
       "      <td>14</td>\n",
       "      <td>111</td>\n",
       "      <td>2</td>\n",
       "      <td>...</td>\n",
       "      <td>2</td>\n",
       "      <td>1</td>\n",
       "      <td>3</td>\n",
       "      <td>4</td>\n",
       "      <td>2</td>\n",
       "      <td>2</td>\n",
       "      <td>29000</td>\n",
       "      <td>2</td>\n",
       "      <td>2</td>\n",
       "      <td>0</td>\n",
       "    </tr>\n",
       "  </tbody>\n",
       "</table>\n",
       "<p>5 rows × 42 columns</p>\n",
       "</div>"
      ],
      "text/plain": [
       "                            CODUSU  NRO_HOGAR  H15  ANO4  TRIMESTRE  REGION  \\\n",
       "95   TQRMNOTRPHJORSCDEIJAH00663228          1    1  2021          2       1   \n",
       "247  TQRMNOSSVHLMLLCDEGKDB00708304          1    1  2021          2      43   \n",
       "248  TQRMNOSSVHLMLLCDEGKDB00708304          1    1  2021          2      43   \n",
       "249  TQRMNOSSVHLMLLCDEGKDB00708304          1    1  2021          2      43   \n",
       "250  TQRMNOSSVHLMLLCDEGKDB00708304          1    1  2021          2      43   \n",
       "\n",
       "    MAS_500  AGLOMERADO  PONDERA  CH03  ...  II1 II2  II7  IX_TOT  IX_MEN10  \\\n",
       "95        S          33     8647     1  ...    4   1    1       1         0   \n",
       "247       N          14      111     2  ...    2   1    3       4         2   \n",
       "248       N          14      111     2  ...    2   1    3       4         2   \n",
       "249       N          14      111     2  ...    2   1    3       4         2   \n",
       "250       N          14      111     2  ...    2   1    3       4         2   \n",
       "\n",
       "     IX_MAYEQ10    ITF  DECIFR  V11  dropped  \n",
       "95            1  32000       2    2        0  \n",
       "247           2  29000       2    2        0  \n",
       "248           2  29000       2    2        0  \n",
       "249           2  29000       2    2        0  \n",
       "250           2  29000       2    2        0  \n",
       "\n",
       "[5 rows x 42 columns]"
      ]
     },
     "execution_count": 15,
     "metadata": {},
     "output_type": "execute_result"
    }
   ],
   "source": [
    "data = pd.read_csv('data.csv').dropna()\n",
    "data.head()"
   ]
  },
  {
   "cell_type": "code",
   "execution_count": 16,
   "id": "b8450e19",
   "metadata": {},
   "outputs": [
    {
     "data": {
      "text/plain": [
       "Index(['CODUSU', 'NRO_HOGAR', 'H15', 'ANO4', 'TRIMESTRE', 'REGION', 'MAS_500',\n",
       "       'AGLOMERADO', 'PONDERA', 'CH03', 'CH04', 'CH05', 'CH06', 'CH07', 'CH08',\n",
       "       'CH09', 'CH11', 'CH12', 'CH13', 'CH14', 'CH15', 'CH15_COD', 'NIVEL_ED',\n",
       "       'CAT_OCUP', 'CAT_INAC', 'P47T', 'DECINDR', 'PONDII', 'V11_M',\n",
       "       'REALIZADA', 'IV4', 'IV9', 'II1', 'II2', 'II7', 'IX_TOT', 'IX_MEN10',\n",
       "       'IX_MAYEQ10', 'ITF', 'DECIFR', 'V11', 'dropped'],\n",
       "      dtype='object')"
      ]
     },
     "execution_count": 16,
     "metadata": {},
     "output_type": "execute_result"
    }
   ],
   "source": [
    "data.columns"
   ]
  },
  {
   "cell_type": "code",
   "execution_count": 17,
   "id": "04f7834c",
   "metadata": {},
   "outputs": [
    {
     "name": "stdout",
     "output_type": "stream",
     "text": [
      "<class 'pandas.core.frame.DataFrame'>\n",
      "Int64Index: 4403 entries, 95 to 79143\n",
      "Data columns (total 42 columns):\n",
      " #   Column      Non-Null Count  Dtype  \n",
      "---  ------      --------------  -----  \n",
      " 0   CODUSU      4403 non-null   object \n",
      " 1   NRO_HOGAR   4403 non-null   int64  \n",
      " 2   H15         4403 non-null   int64  \n",
      " 3   ANO4        4403 non-null   int64  \n",
      " 4   TRIMESTRE   4403 non-null   int64  \n",
      " 5   REGION      4403 non-null   int64  \n",
      " 6   MAS_500     4403 non-null   object \n",
      " 7   AGLOMERADO  4403 non-null   int64  \n",
      " 8   PONDERA     4403 non-null   int64  \n",
      " 9   CH03        4403 non-null   int64  \n",
      " 10  CH04        4403 non-null   int64  \n",
      " 11  CH05        4403 non-null   object \n",
      " 12  CH06        4403 non-null   int64  \n",
      " 13  CH07        4403 non-null   int64  \n",
      " 14  CH08        4403 non-null   int64  \n",
      " 15  CH09        4403 non-null   int64  \n",
      " 16  CH11        4403 non-null   int64  \n",
      " 17  CH12        4403 non-null   int64  \n",
      " 18  CH13        4403 non-null   int64  \n",
      " 19  CH14        4403 non-null   float64\n",
      " 20  CH15        4403 non-null   int64  \n",
      " 21  CH15_COD    4403 non-null   float64\n",
      " 22  NIVEL_ED    4403 non-null   int64  \n",
      " 23  CAT_OCUP    4403 non-null   int64  \n",
      " 24  CAT_INAC    4403 non-null   int64  \n",
      " 25  P47T        4403 non-null   float64\n",
      " 26  DECINDR     4403 non-null   int64  \n",
      " 27  PONDII      4403 non-null   int64  \n",
      " 28  V11_M       4403 non-null   int64  \n",
      " 29  REALIZADA   4403 non-null   int64  \n",
      " 30  IV4         4403 non-null   int64  \n",
      " 31  IV9         4403 non-null   int64  \n",
      " 32  II1         4403 non-null   int64  \n",
      " 33  II2         4403 non-null   int64  \n",
      " 34  II7         4403 non-null   int64  \n",
      " 35  IX_TOT      4403 non-null   int64  \n",
      " 36  IX_MEN10    4403 non-null   int64  \n",
      " 37  IX_MAYEQ10  4403 non-null   int64  \n",
      " 38  ITF         4403 non-null   int64  \n",
      " 39  DECIFR      4403 non-null   int64  \n",
      " 40  V11         4403 non-null   int64  \n",
      " 41  dropped     4403 non-null   int64  \n",
      "dtypes: float64(3), int64(36), object(3)\n",
      "memory usage: 1.4+ MB\n"
     ]
    }
   ],
   "source": [
    "data.info()"
   ]
  },
  {
   "cell_type": "code",
   "execution_count": 18,
   "id": "b082483a",
   "metadata": {},
   "outputs": [],
   "source": [
    "X = data.drop(['CODUSU', 'NRO_HOGAR', 'H15', 'ANO4', 'TRIMESTRE', 'PONDERA', 'PONDII', 'dropped', 'CH05', 'MAS_500'], axis=1)\n",
    "y = data['dropped']"
   ]
  },
  {
   "cell_type": "code",
   "execution_count": 19,
   "id": "1d85a418",
   "metadata": {},
   "outputs": [],
   "source": [
    "X_train, X_test, y_train, y_test = train_test_split(X, y, test_size=0.30, random_state=42)"
   ]
  },
  {
   "cell_type": "code",
   "execution_count": 20,
   "id": "a3008350",
   "metadata": {},
   "outputs": [],
   "source": [
    "rfc = RandomForestClassifier()\n",
    "rfc.fit(X_train, y_train)\n",
    "predictions = rfc.predict(X_test)"
   ]
  },
  {
   "cell_type": "code",
   "execution_count": 21,
   "id": "0a6410ca",
   "metadata": {},
   "outputs": [
    {
     "name": "stdout",
     "output_type": "stream",
     "text": [
      "              precision    recall  f1-score   support\n",
      "\n",
      "           0       0.85      0.87      0.86      1089\n",
      "           1       0.32      0.29      0.31       232\n",
      "\n",
      "    accuracy                           0.77      1321\n",
      "   macro avg       0.59      0.58      0.58      1321\n",
      "weighted avg       0.76      0.77      0.76      1321\n",
      "\n"
     ]
    }
   ],
   "source": [
    "print(classification_report(y_test, predictions))"
   ]
  },
  {
   "cell_type": "code",
   "execution_count": 22,
   "id": "675baee0",
   "metadata": {},
   "outputs": [],
   "source": [
    "from matplotlib import pyplot as plt\n",
    "from sklearn.metrics import ConfusionMatrixDisplay"
   ]
  },
  {
   "cell_type": "code",
   "execution_count": 25,
   "id": "f3aaf012",
   "metadata": {},
   "outputs": [
    {
     "data": {
      "text/plain": [
       "<sklearn.metrics._plot.confusion_matrix.ConfusionMatrixDisplay at 0x2b86d26ed10>"
      ]
     },
     "execution_count": 25,
     "metadata": {},
     "output_type": "execute_result"
    },
    {
     "data": {
      "image/png": "[encoded data removed]",
      "text/plain": [
       "<Figure size 640x480 with 2 Axes>"
      ]
     },
     "metadata": {},
     "output_type": "display_data"
    }
   ],
   "source": [
    "disp = ConfusionMatrixDisplay.from_estimator(\n",
    "        rfc,\n",
    "        X_test,\n",
    "        y_test,\n",
    "        display_labels=['Didn\\'t drop', 'Dropped'],\n",
    "        cmap=plt.cm.Blues);\n",
    "disp"
   ]
  },
  {
   "cell_type": "code",
   "execution_count": null,
   "id": "39f27a00",
   "metadata": {},
   "outputs": [],
   "source": []
  }
 ],
 "metadata": {
  "kernelspec": {
   "display_name": "sc_dropouts_env",
   "language": "python",
   "name": "sc_dropouts_env"
  },
  "language_info": {
   "codemirror_mode": {
    "name": "ipython",
    "version": 3
   },
   "file_extension": ".py",
   "mimetype": "text/x-python",
   "name": "python",
   "nbconvert_exporter": "python",
   "pygments_lexer": "ipython3",
   "version": "3.11.5"
  }
 },
 "nbformat": 4,
 "nbformat_minor": 5
}
